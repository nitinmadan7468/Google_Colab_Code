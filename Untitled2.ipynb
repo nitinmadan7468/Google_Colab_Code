{
  "nbformat": 4,
  "nbformat_minor": 0,
  "metadata": {
    "colab": {
      "name": "Untitled2.ipynb",
      "provenance": [],
      "authorship_tag": "ABX9TyO8i0adPmXqv/qZWmXDTak7",
      "include_colab_link": true
    },
    "kernelspec": {
      "name": "python3",
      "display_name": "Python 3"
    },
    "language_info": {
      "name": "python"
    }
  },
  "cells": [
    {
      "cell_type": "markdown",
      "metadata": {
        "id": "view-in-github",
        "colab_type": "text"
      },
      "source": [
        "<a href=\"https://colab.research.google.com/github/nitinmadan7468/Google_Colab_Code/blob/main/Untitled2.ipynb\" target=\"_parent\"><img src=\"https://colab.research.google.com/assets/colab-badge.svg\" alt=\"Open In Colab\"/></a>"
      ]
    },
    {
      "cell_type": "code",
      "metadata": {
        "id": "Iz05ATMSRv2z"
      },
      "source": [
        "#without Impressions\n",
        "target =pd.DataFrame() # declare an empty dataframe\n",
        "from fbprophet import Prophet # import the prophet library\n",
        "from matplotlib import pyplot as plt\n",
        "for i in Kampagnen.groups: # for loop to use the generated time series for each campaign\n",
        "  group = Kampagnen.get_group(i)\n",
        "  train_ind = int(len(group)*0.75) # training and testing data, using 75% for training\n",
        "  train = group[:train_ind]\n",
        "  test = group[train_ind:]\n",
        "  m=Prophet(growth='linear',weekly_seasonality=True,daily_seasonality=True,yearly_seasonality=True)#adding seasonality for daily data\n",
        "  m.add_country_holidays(country_name='DE')#add country holidays\n",
        "  #corr_clicks =group['y'].corr(group['Clicks'])\n",
        "  #corr_Imp =group['y'].corr(group['Impressions'])\n",
        "  #corr_spent =group['y'].corr(group['spent']\n",
        "  #if (corr_clicks > 0.5 AN corr_spent > 0.5) AND/OR (cond3 AND/OR cond4):  \n",
        "   # m=Prophet(growth='linear',weekly_seasonality=True,daily_seasonality=True,yearly_seasonality=True)\n",
        "    #m.add_country_holidays(country_name='DE')                         \n",
        "  m.add_regressor('Clicks') #adding respective regressors Clicks, spent, Impressions\n",
        "  m.add_regressor('spent')\n",
        "  #m.add_regressor('Impressions')\n",
        "  #else:  \n",
        "   # m=Prophet(growth='linear',weekly_seasonality=True,daily_seasonality=True,yearly_seasonality=True)\n",
        "    #m.add_country_holidays(country_name='DE') \n",
        "  #m.add_regressor('Impressions')\n",
        "  m.fit(group)\n",
        "  future =m.make_future_dataframe(periods=test.shape[0])\n",
        "  forecast=m.predict(group)\n",
        "  #print(\"campaign_name: %s\" %group.Campaign.head(1))\n",
        "  forecast=forecast[['ds','yhat','yhat_lower','yhat_upper']]\n",
        "  forecast=group.merge(forecast, left_on=['ds'], right_on = ['ds'], how='left')\n",
        "  fig1 = m.plot(forecast, xlabel=group['Campaign'].unique(),plot_cap=True,uncertainty= True, figsize= (16,12))\n",
        "  #results=forecast_Mob_69.copy()\n",
        " #marking points which have an average greater than the mean average of the last 30 days        \n",
        "  forecast['rolling_Clicks_mean_30'] = forecast.Clicks.shift().rolling(30).mean()\n",
        "  forecast['rolling_ctr_mean_30'] = forecast.y.shift().rolling(30).mean()\n",
        "  forecast['rolling_yhat_mean_30'] = forecast.yhat.shift().rolling(30).mean()\n",
        "  forecast['rolling_spent_mean_30'] = forecast.spent.shift().rolling(30).mean()\n",
        "  forecast['rolling_Imp_mean_30'] = forecast.Impressions.shift().rolling(30).mean()\n",
        "  #forecast['rolling_Clicks_mean_7'] = forecast.Clicks.shift().rolling(7).mean()\n",
        "  #forecast['rolling_ctr_mean_7'] = forecast.y.shift().rolling(7).mean()\n",
        "  #forecast['rolling_yhat_mean_7'] = forecast.yhat.shift().rolling(7).mean()\n",
        "  target=target.append(forecast)"
      ],
      "execution_count": null,
      "outputs": []
    },
    {
      "cell_type": "code",
      "metadata": {
        "id": "GCRoRvrdRyyW"
      },
      "source": [
        ""
      ],
      "execution_count": null,
      "outputs": []
    }
  ]
}